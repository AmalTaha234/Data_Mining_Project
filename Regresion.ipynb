{
 "cells": [
  {
   "cell_type": "code",
   "execution_count": 36,
   "id": "85f90978",
   "metadata": {},
   "outputs": [],
   "source": [
    "import numpy as np\n",
    "import matplotlib.pyplot as plt\n",
    "import pandas as pd\n",
    "import seaborn as sns\n",
    "from sklearn.impute import SimpleImputer\n",
    "from sklearn.preprocessing import StandardScaler, MinMaxScaler, LabelEncoder,RobustScaler\n",
    "from sklearn.model_selection import train_test_split\n",
    "from sklearn.linear_model import LogisticRegression\n",
    "from sklearn.neighbors import KNeighborsClassifier\n",
    "from sklearn.naive_bayes import GaussianNB\n",
    "from sklearn.svm import SVC\n",
    "from sklearn.metrics import accuracy_score, confusion_matrix, classification_report\n",
    "import warnings\n",
    "warnings.filterwarnings('ignore')\n",
    "from sklearn.compose import ColumnTransformer\n",
    "from sklearn.preprocessing import OneHotEncoder\n",
    "from sklearn.ensemble import RandomForestRegressor\n",
    "from sklearn.linear_model import LinearRegression \n",
    "from sklearn.metrics import mean_absolute_error, mean_squared_error\n",
    "from sklearn import metrics"
   ]
  },
  {
   "cell_type": "code",
   "execution_count": 2,
   "id": "b0177cf7",
   "metadata": {},
   "outputs": [
    {
     "data": {
      "text/html": [
       "<div>\n",
       "<style scoped>\n",
       "    .dataframe tbody tr th:only-of-type {\n",
       "        vertical-align: middle;\n",
       "    }\n",
       "\n",
       "    .dataframe tbody tr th {\n",
       "        vertical-align: top;\n",
       "    }\n",
       "\n",
       "    .dataframe thead th {\n",
       "        text-align: right;\n",
       "    }\n",
       "</style>\n",
       "<table border=\"1\" class=\"dataframe\">\n",
       "  <thead>\n",
       "    <tr style=\"text-align: right;\">\n",
       "      <th></th>\n",
       "      <th>age</th>\n",
       "      <th>sex</th>\n",
       "      <th>bmi</th>\n",
       "      <th>children</th>\n",
       "      <th>smoker</th>\n",
       "      <th>region</th>\n",
       "      <th>charges</th>\n",
       "    </tr>\n",
       "  </thead>\n",
       "  <tbody>\n",
       "    <tr>\n",
       "      <th>0</th>\n",
       "      <td>19</td>\n",
       "      <td>female</td>\n",
       "      <td>27.90</td>\n",
       "      <td>0.0</td>\n",
       "      <td>yes</td>\n",
       "      <td>southwest</td>\n",
       "      <td>16884.92400</td>\n",
       "    </tr>\n",
       "    <tr>\n",
       "      <th>1</th>\n",
       "      <td>18</td>\n",
       "      <td>male</td>\n",
       "      <td>33.77</td>\n",
       "      <td>1.0</td>\n",
       "      <td>no</td>\n",
       "      <td>southeast</td>\n",
       "      <td>1725.55230</td>\n",
       "    </tr>\n",
       "    <tr>\n",
       "      <th>2</th>\n",
       "      <td>28</td>\n",
       "      <td>male</td>\n",
       "      <td>33.00</td>\n",
       "      <td>3.0</td>\n",
       "      <td>no</td>\n",
       "      <td>southeast</td>\n",
       "      <td>4449.46200</td>\n",
       "    </tr>\n",
       "    <tr>\n",
       "      <th>3</th>\n",
       "      <td>33</td>\n",
       "      <td>male</td>\n",
       "      <td>NaN</td>\n",
       "      <td>0.0</td>\n",
       "      <td>no</td>\n",
       "      <td>northwest</td>\n",
       "      <td>21984.47061</td>\n",
       "    </tr>\n",
       "    <tr>\n",
       "      <th>4</th>\n",
       "      <td>32</td>\n",
       "      <td>male</td>\n",
       "      <td>28.88</td>\n",
       "      <td>0.0</td>\n",
       "      <td>no</td>\n",
       "      <td>northwest</td>\n",
       "      <td>3866.85520</td>\n",
       "    </tr>\n",
       "    <tr>\n",
       "      <th>...</th>\n",
       "      <td>...</td>\n",
       "      <td>...</td>\n",
       "      <td>...</td>\n",
       "      <td>...</td>\n",
       "      <td>...</td>\n",
       "      <td>...</td>\n",
       "      <td>...</td>\n",
       "    </tr>\n",
       "    <tr>\n",
       "      <th>1333</th>\n",
       "      <td>50</td>\n",
       "      <td>male</td>\n",
       "      <td>30.97</td>\n",
       "      <td>3.0</td>\n",
       "      <td>NaN</td>\n",
       "      <td>northwest</td>\n",
       "      <td>10600.54830</td>\n",
       "    </tr>\n",
       "    <tr>\n",
       "      <th>1334</th>\n",
       "      <td>18</td>\n",
       "      <td>female</td>\n",
       "      <td>31.92</td>\n",
       "      <td>0.0</td>\n",
       "      <td>no</td>\n",
       "      <td>northeast</td>\n",
       "      <td>2205.98080</td>\n",
       "    </tr>\n",
       "    <tr>\n",
       "      <th>1335</th>\n",
       "      <td>18</td>\n",
       "      <td>female</td>\n",
       "      <td>36.85</td>\n",
       "      <td>0.0</td>\n",
       "      <td>no</td>\n",
       "      <td>southeast</td>\n",
       "      <td>1629.83350</td>\n",
       "    </tr>\n",
       "    <tr>\n",
       "      <th>1336</th>\n",
       "      <td>21</td>\n",
       "      <td>female</td>\n",
       "      <td>25.80</td>\n",
       "      <td>0.0</td>\n",
       "      <td>no</td>\n",
       "      <td>southwest</td>\n",
       "      <td>2007.94500</td>\n",
       "    </tr>\n",
       "    <tr>\n",
       "      <th>1337</th>\n",
       "      <td>61</td>\n",
       "      <td>female</td>\n",
       "      <td>29.07</td>\n",
       "      <td>0.0</td>\n",
       "      <td>NaN</td>\n",
       "      <td>northwest</td>\n",
       "      <td>29141.36030</td>\n",
       "    </tr>\n",
       "  </tbody>\n",
       "</table>\n",
       "<p>1338 rows × 7 columns</p>\n",
       "</div>"
      ],
      "text/plain": [
       "      age     sex    bmi  children smoker     region      charges\n",
       "0      19  female  27.90       0.0    yes  southwest  16884.92400\n",
       "1      18    male  33.77       1.0     no  southeast   1725.55230\n",
       "2      28    male  33.00       3.0     no  southeast   4449.46200\n",
       "3      33    male    NaN       0.0     no  northwest  21984.47061\n",
       "4      32    male  28.88       0.0     no  northwest   3866.85520\n",
       "...   ...     ...    ...       ...    ...        ...          ...\n",
       "1333   50    male  30.97       3.0    NaN  northwest  10600.54830\n",
       "1334   18  female  31.92       0.0     no  northeast   2205.98080\n",
       "1335   18  female  36.85       0.0     no  southeast   1629.83350\n",
       "1336   21  female  25.80       0.0     no  southwest   2007.94500\n",
       "1337   61  female  29.07       0.0    NaN  northwest  29141.36030\n",
       "\n",
       "[1338 rows x 7 columns]"
      ]
     },
     "execution_count": 2,
     "metadata": {},
     "output_type": "execute_result"
    }
   ],
   "source": [
    "df = pd.read_csv('insurance-with outliers.csv')\n",
    "df"
   ]
  },
  {
   "cell_type": "code",
   "execution_count": 3,
   "id": "09c1ec05",
   "metadata": {},
   "outputs": [
    {
     "data": {
      "text/html": [
       "<div>\n",
       "<style scoped>\n",
       "    .dataframe tbody tr th:only-of-type {\n",
       "        vertical-align: middle;\n",
       "    }\n",
       "\n",
       "    .dataframe tbody tr th {\n",
       "        vertical-align: top;\n",
       "    }\n",
       "\n",
       "    .dataframe thead th {\n",
       "        text-align: right;\n",
       "    }\n",
       "</style>\n",
       "<table border=\"1\" class=\"dataframe\">\n",
       "  <thead>\n",
       "    <tr style=\"text-align: right;\">\n",
       "      <th></th>\n",
       "      <th>age</th>\n",
       "      <th>sex</th>\n",
       "      <th>bmi</th>\n",
       "      <th>children</th>\n",
       "      <th>smoker</th>\n",
       "      <th>region</th>\n",
       "      <th>charges</th>\n",
       "    </tr>\n",
       "  </thead>\n",
       "  <tbody>\n",
       "    <tr>\n",
       "      <th>0</th>\n",
       "      <td>19</td>\n",
       "      <td>female</td>\n",
       "      <td>27.90</td>\n",
       "      <td>0.0</td>\n",
       "      <td>yes</td>\n",
       "      <td>southwest</td>\n",
       "      <td>16884.92400</td>\n",
       "    </tr>\n",
       "    <tr>\n",
       "      <th>1</th>\n",
       "      <td>18</td>\n",
       "      <td>male</td>\n",
       "      <td>33.77</td>\n",
       "      <td>1.0</td>\n",
       "      <td>no</td>\n",
       "      <td>southeast</td>\n",
       "      <td>1725.55230</td>\n",
       "    </tr>\n",
       "    <tr>\n",
       "      <th>2</th>\n",
       "      <td>28</td>\n",
       "      <td>male</td>\n",
       "      <td>33.00</td>\n",
       "      <td>3.0</td>\n",
       "      <td>no</td>\n",
       "      <td>southeast</td>\n",
       "      <td>4449.46200</td>\n",
       "    </tr>\n",
       "    <tr>\n",
       "      <th>3</th>\n",
       "      <td>33</td>\n",
       "      <td>male</td>\n",
       "      <td>NaN</td>\n",
       "      <td>0.0</td>\n",
       "      <td>no</td>\n",
       "      <td>northwest</td>\n",
       "      <td>21984.47061</td>\n",
       "    </tr>\n",
       "    <tr>\n",
       "      <th>4</th>\n",
       "      <td>32</td>\n",
       "      <td>male</td>\n",
       "      <td>28.88</td>\n",
       "      <td>0.0</td>\n",
       "      <td>no</td>\n",
       "      <td>northwest</td>\n",
       "      <td>3866.85520</td>\n",
       "    </tr>\n",
       "  </tbody>\n",
       "</table>\n",
       "</div>"
      ],
      "text/plain": [
       "   age     sex    bmi  children smoker     region      charges\n",
       "0   19  female  27.90       0.0    yes  southwest  16884.92400\n",
       "1   18    male  33.77       1.0     no  southeast   1725.55230\n",
       "2   28    male  33.00       3.0     no  southeast   4449.46200\n",
       "3   33    male    NaN       0.0     no  northwest  21984.47061\n",
       "4   32    male  28.88       0.0     no  northwest   3866.85520"
      ]
     },
     "execution_count": 3,
     "metadata": {},
     "output_type": "execute_result"
    }
   ],
   "source": [
    "df.head()"
   ]
  },
  {
   "cell_type": "code",
   "execution_count": 4,
   "id": "884c115d",
   "metadata": {},
   "outputs": [
    {
     "data": {
      "text/html": [
       "<div>\n",
       "<style scoped>\n",
       "    .dataframe tbody tr th:only-of-type {\n",
       "        vertical-align: middle;\n",
       "    }\n",
       "\n",
       "    .dataframe tbody tr th {\n",
       "        vertical-align: top;\n",
       "    }\n",
       "\n",
       "    .dataframe thead th {\n",
       "        text-align: right;\n",
       "    }\n",
       "</style>\n",
       "<table border=\"1\" class=\"dataframe\">\n",
       "  <thead>\n",
       "    <tr style=\"text-align: right;\">\n",
       "      <th></th>\n",
       "      <th>age</th>\n",
       "      <th>sex</th>\n",
       "      <th>bmi</th>\n",
       "      <th>children</th>\n",
       "      <th>smoker</th>\n",
       "      <th>region</th>\n",
       "      <th>charges</th>\n",
       "    </tr>\n",
       "  </thead>\n",
       "  <tbody>\n",
       "    <tr>\n",
       "      <th>1333</th>\n",
       "      <td>50</td>\n",
       "      <td>male</td>\n",
       "      <td>30.97</td>\n",
       "      <td>3.0</td>\n",
       "      <td>NaN</td>\n",
       "      <td>northwest</td>\n",
       "      <td>10600.5483</td>\n",
       "    </tr>\n",
       "    <tr>\n",
       "      <th>1334</th>\n",
       "      <td>18</td>\n",
       "      <td>female</td>\n",
       "      <td>31.92</td>\n",
       "      <td>0.0</td>\n",
       "      <td>no</td>\n",
       "      <td>northeast</td>\n",
       "      <td>2205.9808</td>\n",
       "    </tr>\n",
       "    <tr>\n",
       "      <th>1335</th>\n",
       "      <td>18</td>\n",
       "      <td>female</td>\n",
       "      <td>36.85</td>\n",
       "      <td>0.0</td>\n",
       "      <td>no</td>\n",
       "      <td>southeast</td>\n",
       "      <td>1629.8335</td>\n",
       "    </tr>\n",
       "    <tr>\n",
       "      <th>1336</th>\n",
       "      <td>21</td>\n",
       "      <td>female</td>\n",
       "      <td>25.80</td>\n",
       "      <td>0.0</td>\n",
       "      <td>no</td>\n",
       "      <td>southwest</td>\n",
       "      <td>2007.9450</td>\n",
       "    </tr>\n",
       "    <tr>\n",
       "      <th>1337</th>\n",
       "      <td>61</td>\n",
       "      <td>female</td>\n",
       "      <td>29.07</td>\n",
       "      <td>0.0</td>\n",
       "      <td>NaN</td>\n",
       "      <td>northwest</td>\n",
       "      <td>29141.3603</td>\n",
       "    </tr>\n",
       "  </tbody>\n",
       "</table>\n",
       "</div>"
      ],
      "text/plain": [
       "      age     sex    bmi  children smoker     region     charges\n",
       "1333   50    male  30.97       3.0    NaN  northwest  10600.5483\n",
       "1334   18  female  31.92       0.0     no  northeast   2205.9808\n",
       "1335   18  female  36.85       0.0     no  southeast   1629.8335\n",
       "1336   21  female  25.80       0.0     no  southwest   2007.9450\n",
       "1337   61  female  29.07       0.0    NaN  northwest  29141.3603"
      ]
     },
     "execution_count": 4,
     "metadata": {},
     "output_type": "execute_result"
    }
   ],
   "source": [
    "df.tail()"
   ]
  },
  {
   "cell_type": "code",
   "execution_count": 5,
   "id": "86e854b7",
   "metadata": {},
   "outputs": [
    {
     "data": {
      "text/plain": [
       "(1338, 7)"
      ]
     },
     "execution_count": 5,
     "metadata": {},
     "output_type": "execute_result"
    }
   ],
   "source": [
    "df.shape"
   ]
  },
  {
   "cell_type": "code",
   "execution_count": 6,
   "id": "9563ce46",
   "metadata": {},
   "outputs": [
    {
     "data": {
      "text/plain": [
       "age           int64\n",
       "sex          object\n",
       "bmi         float64\n",
       "children    float64\n",
       "smoker       object\n",
       "region       object\n",
       "charges     float64\n",
       "dtype: object"
      ]
     },
     "execution_count": 6,
     "metadata": {},
     "output_type": "execute_result"
    }
   ],
   "source": [
    "df.dtypes"
   ]
  },
  {
   "cell_type": "code",
   "execution_count": 7,
   "id": "b3736a4d",
   "metadata": {},
   "outputs": [
    {
     "name": "stdout",
     "output_type": "stream",
     "text": [
      "<class 'pandas.core.frame.DataFrame'>\n",
      "RangeIndex: 1338 entries, 0 to 1337\n",
      "Data columns (total 7 columns):\n",
      " #   Column    Non-Null Count  Dtype  \n",
      "---  ------    --------------  -----  \n",
      " 0   age       1338 non-null   int64  \n",
      " 1   sex       1338 non-null   object \n",
      " 2   bmi       1333 non-null   float64\n",
      " 3   children  1334 non-null   float64\n",
      " 4   smoker    1335 non-null   object \n",
      " 5   region    1338 non-null   object \n",
      " 6   charges   1337 non-null   float64\n",
      "dtypes: float64(3), int64(1), object(3)\n",
      "memory usage: 73.3+ KB\n"
     ]
    }
   ],
   "source": [
    "df.info()"
   ]
  },
  {
   "cell_type": "code",
   "execution_count": 8,
   "id": "2f920a5e",
   "metadata": {},
   "outputs": [
    {
     "data": {
      "text/html": [
       "<div>\n",
       "<style scoped>\n",
       "    .dataframe tbody tr th:only-of-type {\n",
       "        vertical-align: middle;\n",
       "    }\n",
       "\n",
       "    .dataframe tbody tr th {\n",
       "        vertical-align: top;\n",
       "    }\n",
       "\n",
       "    .dataframe thead th {\n",
       "        text-align: right;\n",
       "    }\n",
       "</style>\n",
       "<table border=\"1\" class=\"dataframe\">\n",
       "  <thead>\n",
       "    <tr style=\"text-align: right;\">\n",
       "      <th></th>\n",
       "      <th>age</th>\n",
       "      <th>bmi</th>\n",
       "      <th>children</th>\n",
       "      <th>charges</th>\n",
       "    </tr>\n",
       "  </thead>\n",
       "  <tbody>\n",
       "    <tr>\n",
       "      <th>count</th>\n",
       "      <td>1338.000000</td>\n",
       "      <td>1333.000000</td>\n",
       "      <td>1334.000000</td>\n",
       "      <td>1337.000000</td>\n",
       "    </tr>\n",
       "    <tr>\n",
       "      <th>mean</th>\n",
       "      <td>39.269058</td>\n",
       "      <td>30.678920</td>\n",
       "      <td>1.092954</td>\n",
       "      <td>13272.271993</td>\n",
       "    </tr>\n",
       "    <tr>\n",
       "      <th>std</th>\n",
       "      <td>14.222380</td>\n",
       "      <td>6.101716</td>\n",
       "      <td>1.204665</td>\n",
       "      <td>12114.353491</td>\n",
       "    </tr>\n",
       "    <tr>\n",
       "      <th>min</th>\n",
       "      <td>18.000000</td>\n",
       "      <td>15.960000</td>\n",
       "      <td>0.000000</td>\n",
       "      <td>1121.873900</td>\n",
       "    </tr>\n",
       "    <tr>\n",
       "      <th>25%</th>\n",
       "      <td>27.000000</td>\n",
       "      <td>26.315000</td>\n",
       "      <td>0.000000</td>\n",
       "      <td>4738.268200</td>\n",
       "    </tr>\n",
       "    <tr>\n",
       "      <th>50%</th>\n",
       "      <td>39.000000</td>\n",
       "      <td>30.400000</td>\n",
       "      <td>1.000000</td>\n",
       "      <td>9377.904700</td>\n",
       "    </tr>\n",
       "    <tr>\n",
       "      <th>75%</th>\n",
       "      <td>51.000000</td>\n",
       "      <td>34.700000</td>\n",
       "      <td>2.000000</td>\n",
       "      <td>16657.717450</td>\n",
       "    </tr>\n",
       "    <tr>\n",
       "      <th>max</th>\n",
       "      <td>120.000000</td>\n",
       "      <td>53.130000</td>\n",
       "      <td>5.000000</td>\n",
       "      <td>63770.428010</td>\n",
       "    </tr>\n",
       "  </tbody>\n",
       "</table>\n",
       "</div>"
      ],
      "text/plain": [
       "               age          bmi     children       charges\n",
       "count  1338.000000  1333.000000  1334.000000   1337.000000\n",
       "mean     39.269058    30.678920     1.092954  13272.271993\n",
       "std      14.222380     6.101716     1.204665  12114.353491\n",
       "min      18.000000    15.960000     0.000000   1121.873900\n",
       "25%      27.000000    26.315000     0.000000   4738.268200\n",
       "50%      39.000000    30.400000     1.000000   9377.904700\n",
       "75%      51.000000    34.700000     2.000000  16657.717450\n",
       "max     120.000000    53.130000     5.000000  63770.428010"
      ]
     },
     "execution_count": 8,
     "metadata": {},
     "output_type": "execute_result"
    }
   ],
   "source": [
    "df.describe()"
   ]
  },
  {
   "cell_type": "code",
   "execution_count": 9,
   "id": "53893945",
   "metadata": {},
   "outputs": [
    {
     "data": {
      "text/html": [
       "<div>\n",
       "<style scoped>\n",
       "    .dataframe tbody tr th:only-of-type {\n",
       "        vertical-align: middle;\n",
       "    }\n",
       "\n",
       "    .dataframe tbody tr th {\n",
       "        vertical-align: top;\n",
       "    }\n",
       "\n",
       "    .dataframe thead th {\n",
       "        text-align: right;\n",
       "    }\n",
       "</style>\n",
       "<table border=\"1\" class=\"dataframe\">\n",
       "  <thead>\n",
       "    <tr style=\"text-align: right;\">\n",
       "      <th></th>\n",
       "      <th>age</th>\n",
       "      <th>sex</th>\n",
       "      <th>bmi</th>\n",
       "      <th>children</th>\n",
       "      <th>smoker</th>\n",
       "      <th>region</th>\n",
       "      <th>charges</th>\n",
       "    </tr>\n",
       "  </thead>\n",
       "  <tbody>\n",
       "    <tr>\n",
       "      <th>0</th>\n",
       "      <td>False</td>\n",
       "      <td>False</td>\n",
       "      <td>False</td>\n",
       "      <td>False</td>\n",
       "      <td>False</td>\n",
       "      <td>False</td>\n",
       "      <td>False</td>\n",
       "    </tr>\n",
       "    <tr>\n",
       "      <th>1</th>\n",
       "      <td>False</td>\n",
       "      <td>False</td>\n",
       "      <td>False</td>\n",
       "      <td>False</td>\n",
       "      <td>False</td>\n",
       "      <td>False</td>\n",
       "      <td>False</td>\n",
       "    </tr>\n",
       "    <tr>\n",
       "      <th>2</th>\n",
       "      <td>False</td>\n",
       "      <td>False</td>\n",
       "      <td>False</td>\n",
       "      <td>False</td>\n",
       "      <td>False</td>\n",
       "      <td>False</td>\n",
       "      <td>False</td>\n",
       "    </tr>\n",
       "    <tr>\n",
       "      <th>3</th>\n",
       "      <td>False</td>\n",
       "      <td>False</td>\n",
       "      <td>True</td>\n",
       "      <td>False</td>\n",
       "      <td>False</td>\n",
       "      <td>False</td>\n",
       "      <td>False</td>\n",
       "    </tr>\n",
       "    <tr>\n",
       "      <th>4</th>\n",
       "      <td>False</td>\n",
       "      <td>False</td>\n",
       "      <td>False</td>\n",
       "      <td>False</td>\n",
       "      <td>False</td>\n",
       "      <td>False</td>\n",
       "      <td>False</td>\n",
       "    </tr>\n",
       "    <tr>\n",
       "      <th>...</th>\n",
       "      <td>...</td>\n",
       "      <td>...</td>\n",
       "      <td>...</td>\n",
       "      <td>...</td>\n",
       "      <td>...</td>\n",
       "      <td>...</td>\n",
       "      <td>...</td>\n",
       "    </tr>\n",
       "    <tr>\n",
       "      <th>1333</th>\n",
       "      <td>False</td>\n",
       "      <td>False</td>\n",
       "      <td>False</td>\n",
       "      <td>False</td>\n",
       "      <td>True</td>\n",
       "      <td>False</td>\n",
       "      <td>False</td>\n",
       "    </tr>\n",
       "    <tr>\n",
       "      <th>1334</th>\n",
       "      <td>False</td>\n",
       "      <td>False</td>\n",
       "      <td>False</td>\n",
       "      <td>False</td>\n",
       "      <td>False</td>\n",
       "      <td>False</td>\n",
       "      <td>False</td>\n",
       "    </tr>\n",
       "    <tr>\n",
       "      <th>1335</th>\n",
       "      <td>False</td>\n",
       "      <td>False</td>\n",
       "      <td>False</td>\n",
       "      <td>False</td>\n",
       "      <td>False</td>\n",
       "      <td>False</td>\n",
       "      <td>False</td>\n",
       "    </tr>\n",
       "    <tr>\n",
       "      <th>1336</th>\n",
       "      <td>False</td>\n",
       "      <td>False</td>\n",
       "      <td>False</td>\n",
       "      <td>False</td>\n",
       "      <td>False</td>\n",
       "      <td>False</td>\n",
       "      <td>False</td>\n",
       "    </tr>\n",
       "    <tr>\n",
       "      <th>1337</th>\n",
       "      <td>False</td>\n",
       "      <td>False</td>\n",
       "      <td>False</td>\n",
       "      <td>False</td>\n",
       "      <td>True</td>\n",
       "      <td>False</td>\n",
       "      <td>False</td>\n",
       "    </tr>\n",
       "  </tbody>\n",
       "</table>\n",
       "<p>1338 rows × 7 columns</p>\n",
       "</div>"
      ],
      "text/plain": [
       "        age    sex    bmi  children  smoker  region  charges\n",
       "0     False  False  False     False   False   False    False\n",
       "1     False  False  False     False   False   False    False\n",
       "2     False  False  False     False   False   False    False\n",
       "3     False  False   True     False   False   False    False\n",
       "4     False  False  False     False   False   False    False\n",
       "...     ...    ...    ...       ...     ...     ...      ...\n",
       "1333  False  False  False     False    True   False    False\n",
       "1334  False  False  False     False   False   False    False\n",
       "1335  False  False  False     False   False   False    False\n",
       "1336  False  False  False     False   False   False    False\n",
       "1337  False  False  False     False    True   False    False\n",
       "\n",
       "[1338 rows x 7 columns]"
      ]
     },
     "execution_count": 9,
     "metadata": {},
     "output_type": "execute_result"
    }
   ],
   "source": [
    "df.isnull()"
   ]
  },
  {
   "cell_type": "code",
   "execution_count": 10,
   "id": "21a66633",
   "metadata": {},
   "outputs": [
    {
     "data": {
      "text/plain": [
       "age         False\n",
       "sex         False\n",
       "bmi          True\n",
       "children     True\n",
       "smoker       True\n",
       "region      False\n",
       "charges      True\n",
       "dtype: bool"
      ]
     },
     "execution_count": 10,
     "metadata": {},
     "output_type": "execute_result"
    }
   ],
   "source": [
    "df.isnull().any()"
   ]
  },
  {
   "cell_type": "code",
   "execution_count": 11,
   "id": "e1e1f604",
   "metadata": {},
   "outputs": [
    {
     "data": {
      "text/plain": [
       "age         0\n",
       "sex         0\n",
       "bmi         5\n",
       "children    4\n",
       "smoker      3\n",
       "region      0\n",
       "charges     1\n",
       "dtype: int64"
      ]
     },
     "execution_count": 11,
     "metadata": {},
     "output_type": "execute_result"
    }
   ],
   "source": [
    "df.isnull().sum()"
   ]
  },
  {
   "cell_type": "code",
   "execution_count": 12,
   "id": "518f30e5",
   "metadata": {},
   "outputs": [
    {
     "data": {
      "text/plain": [
       "13"
      ]
     },
     "execution_count": 12,
     "metadata": {},
     "output_type": "execute_result"
    }
   ],
   "source": [
    "df.isnull().sum().sum()"
   ]
  },
  {
   "cell_type": "markdown",
   "id": "f7371e76",
   "metadata": {},
   "source": [
    "# Impute a categorical missing value"
   ]
  },
  {
   "cell_type": "code",
   "execution_count": 13,
   "id": "266ac71c",
   "metadata": {},
   "outputs": [
    {
     "data": {
      "text/plain": [
       "smoker    0\n",
       "dtype: int64"
      ]
     },
     "execution_count": 13,
     "metadata": {},
     "output_type": "execute_result"
    }
   ],
   "source": [
    "imputer= SimpleImputer(strategy='most_frequent')\n",
    "df[['smoker']] = imputer.fit_transform(df[['smoker']])\n",
    "df[['smoker']].isnull().sum()"
   ]
  },
  {
   "cell_type": "markdown",
   "id": "cb30d3aa",
   "metadata": {},
   "source": [
    "# Impute a numerical missing value"
   ]
  },
  {
   "cell_type": "code",
   "execution_count": 14,
   "id": "4947e0ce",
   "metadata": {},
   "outputs": [
    {
     "data": {
      "text/plain": [
       "age         0\n",
       "sex         0\n",
       "bmi         0\n",
       "children    0\n",
       "smoker      0\n",
       "region      0\n",
       "charges     0\n",
       "dtype: int64"
      ]
     },
     "execution_count": 14,
     "metadata": {},
     "output_type": "execute_result"
    }
   ],
   "source": [
    "imputer_num = SimpleImputer(strategy='mean')\n",
    "df['bmi'] = imputer_num.fit_transform(df[['bmi']])\n",
    "df['children'] = imputer_num.fit_transform(df[['children']])\n",
    "df['charges'] = imputer_num.fit_transform(df[['charges']])\n",
    "df.isnull().sum()"
   ]
  },
  {
   "cell_type": "markdown",
   "id": "5c1a6cfb",
   "metadata": {},
   "source": [
    "# Identify a scaling problem visually"
   ]
  },
  {
   "cell_type": "code",
   "execution_count": 15,
   "id": "e41f4bdf",
   "metadata": {},
   "outputs": [
    {
     "data": {
      "image/png": "[encoded data removed]",
      "text/plain": [
       "<Figure size 640x480 with 1 Axes>"
      ]
     },
     "metadata": {},
     "output_type": "display_data"
    }
   ],
   "source": [
    "plt.plot(df.age)\n",
    "plt.plot(df.charges)\n",
    "plt.xlabel('Record Index')\n",
    "plt.ylabel('Original Scale of Both age and charges')\n",
    "plt.show()"
   ]
  },
  {
   "cell_type": "markdown",
   "id": "2be4dc9e",
   "metadata": {},
   "source": [
    "# Apply 2 methods of scaling to treat outliers"
   ]
  },
  {
   "cell_type": "code",
   "execution_count": 16,
   "id": "1dec3d94",
   "metadata": {},
   "outputs": [
    {
     "name": "stdout",
     "output_type": "stream",
     "text": [
      "0      -1.425685\n",
      "1      -1.496023\n",
      "2      -0.792643\n",
      "3      -0.440953\n",
      "4      -0.511291\n",
      "          ...   \n",
      "1333    0.754793\n",
      "1334   -1.496023\n",
      "1335   -1.496023\n",
      "1336   -1.285009\n",
      "1337    1.528511\n",
      "Name: age, Length: 1338, dtype: float64\n",
      "0       0.298436\n",
      "1      -0.953857\n",
      "2      -0.728839\n",
      "3       0.719701\n",
      "4      -0.776967\n",
      "          ...   \n",
      "1333   -0.220707\n",
      "1334   -0.914169\n",
      "1335   -0.961764\n",
      "1336   -0.930529\n",
      "1337    1.310921\n",
      "Name: charges, Length: 1338, dtype: float64\n"
     ]
    }
   ],
   "source": [
    "ss= StandardScaler()\n",
    "df['age'] = ss.fit_transform(df[['age']])\n",
    "df['charges'] = ss.fit_transform(df[['charges']])\n",
    "print(df['age'])\n",
    "print(df['charges'])"
   ]
  },
  {
   "cell_type": "code",
   "execution_count": 17,
   "id": "5f00f3bf",
   "metadata": {},
   "outputs": [
    {
     "data": {
      "image/png": "[encoded data removed]",
      "text/plain": [
       "<Figure size 640x480 with 1 Axes>"
      ]
     },
     "metadata": {},
     "output_type": "display_data"
    }
   ],
   "source": [
    "plt.plot(df.age)\n",
    "plt.plot(df.charges)\n",
    "plt.xlabel('Record Index')\n",
    "plt.ylabel('Original Scale of Both age and charges with outliers')\n",
    "plt.show()"
   ]
  },
  {
   "cell_type": "code",
   "execution_count": 18,
   "id": "2759d4ca",
   "metadata": {},
   "outputs": [
    {
     "name": "stdout",
     "output_type": "stream",
     "text": [
      "0      -0.833333\n",
      "1      -0.875000\n",
      "2      -0.458333\n",
      "3      -0.250000\n",
      "4      -0.291667\n",
      "          ...   \n",
      "1333    0.458333\n",
      "1334   -0.875000\n",
      "1335   -0.875000\n",
      "1336   -0.750000\n",
      "1337    0.916667\n",
      "Name: age, Length: 1338, dtype: float64\n",
      "0       0.630515\n",
      "1      -0.643422\n",
      "2      -0.414515\n",
      "3       1.059062\n",
      "4      -0.463475\n",
      "          ...   \n",
      "1333    0.102399\n",
      "1334   -0.603049\n",
      "1335   -0.651466\n",
      "1336   -0.619691\n",
      "1337    1.660500\n",
      "Name: charges, Length: 1338, dtype: float64\n"
     ]
    }
   ],
   "source": [
    "rs = RobustScaler()\n",
    "df['age'] = rs.fit_transform(df[['age']])\n",
    "df['charges'] = rs.fit_transform(df[['charges']])\n",
    "print(df['age'])\n",
    "print(df['charges'])"
   ]
  },
  {
   "cell_type": "code",
   "execution_count": 19,
   "id": "b41e2fa6",
   "metadata": {},
   "outputs": [
    {
     "data": {
      "image/png": "[encoded data removed]",
      "text/plain": [
       "<Figure size 640x480 with 1 Axes>"
      ]
     },
     "metadata": {},
     "output_type": "display_data"
    }
   ],
   "source": [
    "plt.plot(df.age)\n",
    "plt.plot(df.charges)\n",
    "plt.xlabel('Record Index')\n",
    "plt.ylabel('Original Scale of Both age and charges with outliers')\n",
    "plt.show()"
   ]
  },
  {
   "cell_type": "markdown",
   "id": "a3a4aadc",
   "metadata": {},
   "source": [
    "# Convert a categorical variable to number"
   ]
  },
  {
   "cell_type": "code",
   "execution_count": 20,
   "id": "2760388a",
   "metadata": {},
   "outputs": [
    {
     "data": {
      "text/html": [
       "<div>\n",
       "<style scoped>\n",
       "    .dataframe tbody tr th:only-of-type {\n",
       "        vertical-align: middle;\n",
       "    }\n",
       "\n",
       "    .dataframe tbody tr th {\n",
       "        vertical-align: top;\n",
       "    }\n",
       "\n",
       "    .dataframe thead th {\n",
       "        text-align: right;\n",
       "    }\n",
       "</style>\n",
       "<table border=\"1\" class=\"dataframe\">\n",
       "  <thead>\n",
       "    <tr style=\"text-align: right;\">\n",
       "      <th></th>\n",
       "      <th>age</th>\n",
       "      <th>sex</th>\n",
       "      <th>bmi</th>\n",
       "      <th>children</th>\n",
       "      <th>smoker</th>\n",
       "      <th>region</th>\n",
       "      <th>charges</th>\n",
       "    </tr>\n",
       "  </thead>\n",
       "  <tbody>\n",
       "    <tr>\n",
       "      <th>0</th>\n",
       "      <td>-0.833333</td>\n",
       "      <td>0</td>\n",
       "      <td>27.90000</td>\n",
       "      <td>0.0</td>\n",
       "      <td>1</td>\n",
       "      <td>1</td>\n",
       "      <td>0.630515</td>\n",
       "    </tr>\n",
       "    <tr>\n",
       "      <th>1</th>\n",
       "      <td>-0.875000</td>\n",
       "      <td>1</td>\n",
       "      <td>33.77000</td>\n",
       "      <td>1.0</td>\n",
       "      <td>0</td>\n",
       "      <td>0</td>\n",
       "      <td>-0.643422</td>\n",
       "    </tr>\n",
       "    <tr>\n",
       "      <th>2</th>\n",
       "      <td>-0.458333</td>\n",
       "      <td>1</td>\n",
       "      <td>33.00000</td>\n",
       "      <td>3.0</td>\n",
       "      <td>0</td>\n",
       "      <td>0</td>\n",
       "      <td>-0.414515</td>\n",
       "    </tr>\n",
       "    <tr>\n",
       "      <th>3</th>\n",
       "      <td>-0.250000</td>\n",
       "      <td>1</td>\n",
       "      <td>30.67892</td>\n",
       "      <td>0.0</td>\n",
       "      <td>0</td>\n",
       "      <td>3</td>\n",
       "      <td>1.059062</td>\n",
       "    </tr>\n",
       "    <tr>\n",
       "      <th>4</th>\n",
       "      <td>-0.291667</td>\n",
       "      <td>1</td>\n",
       "      <td>28.88000</td>\n",
       "      <td>0.0</td>\n",
       "      <td>0</td>\n",
       "      <td>3</td>\n",
       "      <td>-0.463475</td>\n",
       "    </tr>\n",
       "    <tr>\n",
       "      <th>...</th>\n",
       "      <td>...</td>\n",
       "      <td>...</td>\n",
       "      <td>...</td>\n",
       "      <td>...</td>\n",
       "      <td>...</td>\n",
       "      <td>...</td>\n",
       "      <td>...</td>\n",
       "    </tr>\n",
       "    <tr>\n",
       "      <th>1333</th>\n",
       "      <td>0.458333</td>\n",
       "      <td>1</td>\n",
       "      <td>30.97000</td>\n",
       "      <td>3.0</td>\n",
       "      <td>0</td>\n",
       "      <td>3</td>\n",
       "      <td>0.102399</td>\n",
       "    </tr>\n",
       "    <tr>\n",
       "      <th>1334</th>\n",
       "      <td>-0.875000</td>\n",
       "      <td>0</td>\n",
       "      <td>31.92000</td>\n",
       "      <td>0.0</td>\n",
       "      <td>0</td>\n",
       "      <td>2</td>\n",
       "      <td>-0.603049</td>\n",
       "    </tr>\n",
       "    <tr>\n",
       "      <th>1335</th>\n",
       "      <td>-0.875000</td>\n",
       "      <td>0</td>\n",
       "      <td>36.85000</td>\n",
       "      <td>0.0</td>\n",
       "      <td>0</td>\n",
       "      <td>0</td>\n",
       "      <td>-0.651466</td>\n",
       "    </tr>\n",
       "    <tr>\n",
       "      <th>1336</th>\n",
       "      <td>-0.750000</td>\n",
       "      <td>0</td>\n",
       "      <td>25.80000</td>\n",
       "      <td>0.0</td>\n",
       "      <td>0</td>\n",
       "      <td>1</td>\n",
       "      <td>-0.619691</td>\n",
       "    </tr>\n",
       "    <tr>\n",
       "      <th>1337</th>\n",
       "      <td>0.916667</td>\n",
       "      <td>0</td>\n",
       "      <td>29.07000</td>\n",
       "      <td>0.0</td>\n",
       "      <td>0</td>\n",
       "      <td>3</td>\n",
       "      <td>1.660500</td>\n",
       "    </tr>\n",
       "  </tbody>\n",
       "</table>\n",
       "<p>1338 rows × 7 columns</p>\n",
       "</div>"
      ],
      "text/plain": [
       "           age sex       bmi  children smoker region   charges\n",
       "0    -0.833333   0  27.90000       0.0      1      1  0.630515\n",
       "1    -0.875000   1  33.77000       1.0      0      0 -0.643422\n",
       "2    -0.458333   1  33.00000       3.0      0      0 -0.414515\n",
       "3    -0.250000   1  30.67892       0.0      0      3  1.059062\n",
       "4    -0.291667   1  28.88000       0.0      0      3 -0.463475\n",
       "...        ...  ..       ...       ...    ...    ...       ...\n",
       "1333  0.458333   1  30.97000       3.0      0      3  0.102399\n",
       "1334 -0.875000   0  31.92000       0.0      0      2 -0.603049\n",
       "1335 -0.875000   0  36.85000       0.0      0      0 -0.651466\n",
       "1336 -0.750000   0  25.80000       0.0      0      1 -0.619691\n",
       "1337  0.916667   0  29.07000       0.0      0      3  1.660500\n",
       "\n",
       "[1338 rows x 7 columns]"
      ]
     },
     "execution_count": 20,
     "metadata": {},
     "output_type": "execute_result"
    }
   ],
   "source": [
    "df['sex'].replace({\"male\":\"1\",\"female\":\"0\"} ,inplace=True)\n",
    "df['smoker'].replace({\"yes\":\"1\",\"no\":\"0\"} ,inplace=True)\n",
    "df['region'].replace({\"southeast\":\"0\",\"southwest\":\"1\",\"northeast\":\"2\",\"northwest\":\"3\"} ,inplace=True)\n",
    "df\n"
   ]
  },
  {
   "cell_type": "markdown",
   "id": "2f44e69c",
   "metadata": {},
   "source": [
    "# Generate 2 regression models with MAE and R2"
   ]
  },
  {
   "cell_type": "code",
   "execution_count": 21,
   "id": "5b280a3d",
   "metadata": {},
   "outputs": [],
   "source": [
    "correlation=df.corr()"
   ]
  },
  {
   "cell_type": "code",
   "execution_count": 22,
   "id": "aea69da9",
   "metadata": {},
   "outputs": [
    {
     "data": {
      "text/plain": [
       "<Axes: >"
      ]
     },
     "execution_count": 22,
     "metadata": {},
     "output_type": "execute_result"
    },
    {
     "data": {
      "image/png": "[encoded data removed]",
      "text/plain": [
       "<Figure size 800x800 with 2 Axes>"
      ]
     },
     "metadata": {},
     "output_type": "display_data"
    }
   ],
   "source": [
    "plt.figure(figsize=(8,8))\n",
    "sns.heatmap(correlation,cbar=True,square=True,fmt='.1f',annot=True,annot_kws={'size':10},cmap='Blues')"
   ]
  },
  {
   "cell_type": "code",
   "execution_count": 23,
   "id": "ca2c67c8",
   "metadata": {},
   "outputs": [
    {
     "name": "stdout",
     "output_type": "stream",
     "text": [
      "age         0.293051\n",
      "bmi         0.198009\n",
      "children    0.070339\n",
      "charges     1.000000\n",
      "Name: charges, dtype: float64\n"
     ]
    },
    {
     "data": {
      "text/html": [
       "<div>\n",
       "<style scoped>\n",
       "    .dataframe tbody tr th:only-of-type {\n",
       "        vertical-align: middle;\n",
       "    }\n",
       "\n",
       "    .dataframe tbody tr th {\n",
       "        vertical-align: top;\n",
       "    }\n",
       "\n",
       "    .dataframe thead th {\n",
       "        text-align: right;\n",
       "    }\n",
       "</style>\n",
       "<table border=\"1\" class=\"dataframe\">\n",
       "  <thead>\n",
       "    <tr style=\"text-align: right;\">\n",
       "      <th></th>\n",
       "      <th>age</th>\n",
       "      <th>sex</th>\n",
       "      <th>bmi</th>\n",
       "      <th>children</th>\n",
       "      <th>smoker</th>\n",
       "      <th>region</th>\n",
       "      <th>charges</th>\n",
       "    </tr>\n",
       "  </thead>\n",
       "  <tbody>\n",
       "    <tr>\n",
       "      <th>0</th>\n",
       "      <td>-0.833333</td>\n",
       "      <td>0</td>\n",
       "      <td>27.90000</td>\n",
       "      <td>0.0</td>\n",
       "      <td>1</td>\n",
       "      <td>1</td>\n",
       "      <td>0.630515</td>\n",
       "    </tr>\n",
       "    <tr>\n",
       "      <th>1</th>\n",
       "      <td>-0.875000</td>\n",
       "      <td>1</td>\n",
       "      <td>33.77000</td>\n",
       "      <td>1.0</td>\n",
       "      <td>0</td>\n",
       "      <td>0</td>\n",
       "      <td>-0.643422</td>\n",
       "    </tr>\n",
       "    <tr>\n",
       "      <th>2</th>\n",
       "      <td>-0.458333</td>\n",
       "      <td>1</td>\n",
       "      <td>33.00000</td>\n",
       "      <td>3.0</td>\n",
       "      <td>0</td>\n",
       "      <td>0</td>\n",
       "      <td>-0.414515</td>\n",
       "    </tr>\n",
       "    <tr>\n",
       "      <th>3</th>\n",
       "      <td>-0.250000</td>\n",
       "      <td>1</td>\n",
       "      <td>30.67892</td>\n",
       "      <td>0.0</td>\n",
       "      <td>0</td>\n",
       "      <td>3</td>\n",
       "      <td>1.059062</td>\n",
       "    </tr>\n",
       "    <tr>\n",
       "      <th>4</th>\n",
       "      <td>-0.291667</td>\n",
       "      <td>1</td>\n",
       "      <td>28.88000</td>\n",
       "      <td>0.0</td>\n",
       "      <td>0</td>\n",
       "      <td>3</td>\n",
       "      <td>-0.463475</td>\n",
       "    </tr>\n",
       "    <tr>\n",
       "      <th>...</th>\n",
       "      <td>...</td>\n",
       "      <td>...</td>\n",
       "      <td>...</td>\n",
       "      <td>...</td>\n",
       "      <td>...</td>\n",
       "      <td>...</td>\n",
       "      <td>...</td>\n",
       "    </tr>\n",
       "    <tr>\n",
       "      <th>1333</th>\n",
       "      <td>0.458333</td>\n",
       "      <td>1</td>\n",
       "      <td>30.97000</td>\n",
       "      <td>3.0</td>\n",
       "      <td>0</td>\n",
       "      <td>3</td>\n",
       "      <td>0.102399</td>\n",
       "    </tr>\n",
       "    <tr>\n",
       "      <th>1334</th>\n",
       "      <td>-0.875000</td>\n",
       "      <td>0</td>\n",
       "      <td>31.92000</td>\n",
       "      <td>0.0</td>\n",
       "      <td>0</td>\n",
       "      <td>2</td>\n",
       "      <td>-0.603049</td>\n",
       "    </tr>\n",
       "    <tr>\n",
       "      <th>1335</th>\n",
       "      <td>-0.875000</td>\n",
       "      <td>0</td>\n",
       "      <td>36.85000</td>\n",
       "      <td>0.0</td>\n",
       "      <td>0</td>\n",
       "      <td>0</td>\n",
       "      <td>-0.651466</td>\n",
       "    </tr>\n",
       "    <tr>\n",
       "      <th>1336</th>\n",
       "      <td>-0.750000</td>\n",
       "      <td>0</td>\n",
       "      <td>25.80000</td>\n",
       "      <td>0.0</td>\n",
       "      <td>0</td>\n",
       "      <td>1</td>\n",
       "      <td>-0.619691</td>\n",
       "    </tr>\n",
       "    <tr>\n",
       "      <th>1337</th>\n",
       "      <td>0.916667</td>\n",
       "      <td>0</td>\n",
       "      <td>29.07000</td>\n",
       "      <td>0.0</td>\n",
       "      <td>0</td>\n",
       "      <td>3</td>\n",
       "      <td>1.660500</td>\n",
       "    </tr>\n",
       "  </tbody>\n",
       "</table>\n",
       "<p>1338 rows × 7 columns</p>\n",
       "</div>"
      ],
      "text/plain": [
       "           age sex       bmi  children smoker region   charges\n",
       "0    -0.833333   0  27.90000       0.0      1      1  0.630515\n",
       "1    -0.875000   1  33.77000       1.0      0      0 -0.643422\n",
       "2    -0.458333   1  33.00000       3.0      0      0 -0.414515\n",
       "3    -0.250000   1  30.67892       0.0      0      3  1.059062\n",
       "4    -0.291667   1  28.88000       0.0      0      3 -0.463475\n",
       "...        ...  ..       ...       ...    ...    ...       ...\n",
       "1333  0.458333   1  30.97000       3.0      0      3  0.102399\n",
       "1334 -0.875000   0  31.92000       0.0      0      2 -0.603049\n",
       "1335 -0.875000   0  36.85000       0.0      0      0 -0.651466\n",
       "1336 -0.750000   0  25.80000       0.0      0      1 -0.619691\n",
       "1337  0.916667   0  29.07000       0.0      0      3  1.660500\n",
       "\n",
       "[1338 rows x 7 columns]"
      ]
     },
     "execution_count": 23,
     "metadata": {},
     "output_type": "execute_result"
    }
   ],
   "source": [
    "print(correlation['charges'])\n",
    "df"
   ]
  },
  {
   "cell_type": "markdown",
   "id": "e117016c",
   "metadata": {},
   "source": [
    "# Splitting tha data"
   ]
  },
  {
   "cell_type": "code",
   "execution_count": 27,
   "id": "842768db",
   "metadata": {},
   "outputs": [
    {
     "data": {
      "text/html": [
       "<div>\n",
       "<style scoped>\n",
       "    .dataframe tbody tr th:only-of-type {\n",
       "        vertical-align: middle;\n",
       "    }\n",
       "\n",
       "    .dataframe tbody tr th {\n",
       "        vertical-align: top;\n",
       "    }\n",
       "\n",
       "    .dataframe thead th {\n",
       "        text-align: right;\n",
       "    }\n",
       "</style>\n",
       "<table border=\"1\" class=\"dataframe\">\n",
       "  <thead>\n",
       "    <tr style=\"text-align: right;\">\n",
       "      <th></th>\n",
       "      <th>age</th>\n",
       "      <th>sex</th>\n",
       "      <th>bmi</th>\n",
       "      <th>children</th>\n",
       "      <th>smoker</th>\n",
       "      <th>region</th>\n",
       "    </tr>\n",
       "  </thead>\n",
       "  <tbody>\n",
       "    <tr>\n",
       "      <th>882</th>\n",
       "      <td>-0.750000</td>\n",
       "      <td>0</td>\n",
       "      <td>22.135</td>\n",
       "      <td>0.0</td>\n",
       "      <td>0</td>\n",
       "      <td>2</td>\n",
       "    </tr>\n",
       "    <tr>\n",
       "      <th>505</th>\n",
       "      <td>-0.083333</td>\n",
       "      <td>1</td>\n",
       "      <td>30.875</td>\n",
       "      <td>3.0</td>\n",
       "      <td>0</td>\n",
       "      <td>3</td>\n",
       "    </tr>\n",
       "    <tr>\n",
       "      <th>798</th>\n",
       "      <td>0.791667</td>\n",
       "      <td>0</td>\n",
       "      <td>33.100</td>\n",
       "      <td>0.0</td>\n",
       "      <td>0</td>\n",
       "      <td>1</td>\n",
       "    </tr>\n",
       "    <tr>\n",
       "      <th>792</th>\n",
       "      <td>-0.708333</td>\n",
       "      <td>0</td>\n",
       "      <td>23.180</td>\n",
       "      <td>0.0</td>\n",
       "      <td>0</td>\n",
       "      <td>2</td>\n",
       "    </tr>\n",
       "    <tr>\n",
       "      <th>201</th>\n",
       "      <td>0.375000</td>\n",
       "      <td>0</td>\n",
       "      <td>32.230</td>\n",
       "      <td>1.0</td>\n",
       "      <td>0</td>\n",
       "      <td>0</td>\n",
       "    </tr>\n",
       "    <tr>\n",
       "      <th>...</th>\n",
       "      <td>...</td>\n",
       "      <td>...</td>\n",
       "      <td>...</td>\n",
       "      <td>...</td>\n",
       "      <td>...</td>\n",
       "      <td>...</td>\n",
       "    </tr>\n",
       "    <tr>\n",
       "      <th>466</th>\n",
       "      <td>0.875000</td>\n",
       "      <td>0</td>\n",
       "      <td>28.700</td>\n",
       "      <td>1.0</td>\n",
       "      <td>0</td>\n",
       "      <td>1</td>\n",
       "    </tr>\n",
       "    <tr>\n",
       "      <th>299</th>\n",
       "      <td>0.375000</td>\n",
       "      <td>0</td>\n",
       "      <td>28.880</td>\n",
       "      <td>1.0</td>\n",
       "      <td>0</td>\n",
       "      <td>3</td>\n",
       "    </tr>\n",
       "    <tr>\n",
       "      <th>493</th>\n",
       "      <td>0.916667</td>\n",
       "      <td>1</td>\n",
       "      <td>43.400</td>\n",
       "      <td>0.0</td>\n",
       "      <td>0</td>\n",
       "      <td>1</td>\n",
       "    </tr>\n",
       "    <tr>\n",
       "      <th>527</th>\n",
       "      <td>0.500000</td>\n",
       "      <td>0</td>\n",
       "      <td>25.800</td>\n",
       "      <td>1.0</td>\n",
       "      <td>0</td>\n",
       "      <td>1</td>\n",
       "    </tr>\n",
       "    <tr>\n",
       "      <th>1192</th>\n",
       "      <td>0.791667</td>\n",
       "      <td>0</td>\n",
       "      <td>32.395</td>\n",
       "      <td>1.0</td>\n",
       "      <td>0</td>\n",
       "      <td>2</td>\n",
       "    </tr>\n",
       "  </tbody>\n",
       "</table>\n",
       "<p>1070 rows × 6 columns</p>\n",
       "</div>"
      ],
      "text/plain": [
       "           age sex     bmi  children smoker region\n",
       "882  -0.750000   0  22.135       0.0      0      2\n",
       "505  -0.083333   1  30.875       3.0      0      3\n",
       "798   0.791667   0  33.100       0.0      0      1\n",
       "792  -0.708333   0  23.180       0.0      0      2\n",
       "201   0.375000   0  32.230       1.0      0      0\n",
       "...        ...  ..     ...       ...    ...    ...\n",
       "466   0.875000   0  28.700       1.0      0      1\n",
       "299   0.375000   0  28.880       1.0      0      3\n",
       "493   0.916667   1  43.400       0.0      0      1\n",
       "527   0.500000   0  25.800       1.0      0      1\n",
       "1192  0.791667   0  32.395       1.0      0      2\n",
       "\n",
       "[1070 rows x 6 columns]"
      ]
     },
     "execution_count": 27,
     "metadata": {},
     "output_type": "execute_result"
    }
   ],
   "source": [
    "#x=df.drop(['sex','bmi','children','smoker','region','charges'],axis=1)\n",
    "x=df.drop(['charges'],axis=1)\n",
    "y=df['charges']\n",
    "X_train,X_test,Y_train,Y_test=train_test_split(x,y,test_size=0.2,random_state=2)\n",
    "X_train"
   ]
  },
  {
   "cell_type": "markdown",
   "id": "e7c1e902",
   "metadata": {},
   "source": [
    "# RandomForest algo"
   ]
  },
  {
   "cell_type": "code",
   "execution_count": 28,
   "id": "8ba0c5ff",
   "metadata": {},
   "outputs": [
    {
     "data": {
      "text/plain": [
       "array([-5.17488094e-01,  2.58309792e-01,  4.72660564e-01, -6.02387015e-01,\n",
       "       -5.75774272e-03, -7.71538753e-02, -5.15314761e-01, -5.40934714e-01,\n",
       "        8.87543416e-01, -1.57232985e-01,  2.64628663e-01,  9.54554959e-02,\n",
       "        7.51426927e-01, -6.67601326e-01,  8.86749955e-02,  3.68768284e-01,\n",
       "       -4.08655893e-01, -2.13051090e-01,  8.62280258e-01, -3.99309663e-01,\n",
       "        2.81209932e-01, -5.53329748e-01,  2.52764876e+00,  9.81894918e-01,\n",
       "        2.38161982e+00,  1.48616685e-01, -3.49951526e-01, -1.26380284e-02,\n",
       "       -2.98038409e-01, -5.02056799e-01, -1.29272087e-01,  7.69609369e-02,\n",
       "       -7.51568868e-02, -4.20916721e-01,  5.38719616e-02,  1.05099977e-01,\n",
       "        2.44253230e+00, -3.50304931e-01,  7.39771837e-01,  3.84943933e-01,\n",
       "       -5.95470442e-01,  2.18158183e+00, -3.86544277e-02, -6.22264480e-01,\n",
       "       -8.19370715e-02, -2.57707085e-01,  8.43931313e-02, -4.45942732e-02,\n",
       "       -2.67718381e-01,  1.47958462e-01, -2.08456076e-01, -6.80062143e-01,\n",
       "        6.84857106e-01,  2.98599477e+00, -2.10965910e-01,  2.56629546e-01,\n",
       "       -2.13925329e-01,  3.11057804e-02, -6.00525721e-01,  2.61114391e+00,\n",
       "        6.77850510e-01, -5.80663416e-01, -3.96234893e-01,  2.73513461e+00,\n",
       "       -6.79661718e-01,  2.50963351e-01,  2.47865430e-01, -1.71042836e-01,\n",
       "        4.15329186e-01, -6.95930752e-02,  1.92359599e-01,  4.75854490e-01,\n",
       "        1.14985215e-01, -2.47999656e-01,  3.72987790e-01,  3.30317997e-02,\n",
       "       -6.20039652e-01, -6.20923344e-01, -5.65154699e-01,  3.25785595e-01,\n",
       "        6.11194792e-01,  1.60517480e-01, -6.63203633e-01,  7.08021682e-01,\n",
       "        4.53373560e-01, -4.56134517e-01,  3.15070356e+00,  3.90397164e-01,\n",
       "       -2.87717683e-02, -1.83326262e-01,  1.62509174e-02,  4.08963168e-01,\n",
       "        3.80193143e-01,  2.31039588e-01,  2.44901380e-01,  6.35058516e-01,\n",
       "       -6.09413908e-01,  2.30184180e-02, -3.57624745e-01,  9.07611307e-01,\n",
       "       -2.44517662e-02, -6.16455786e-01, -3.53840716e-02,  3.99422639e-01,\n",
       "       -2.90703108e-01,  4.36938397e-01, -1.91071371e-01, -4.58808691e-01,\n",
       "        3.41241595e-01,  1.22510136e+00, -4.32909349e-01,  6.84278680e-01,\n",
       "        6.35075582e-01,  5.22153850e-01, -4.13966393e-01,  4.46463559e-01,\n",
       "       -1.96881579e-01, -5.29748840e-01,  2.04722899e-01,  2.38513093e+00,\n",
       "        9.50366808e-02, -1.99406382e-01,  5.42686211e-03,  5.64862889e-01,\n",
       "       -2.29291385e-01,  6.15264725e-01,  1.41747963e+00,  2.05021167e-01,\n",
       "       -6.47860796e-02, -8.48822431e-02,  4.00505708e-02, -6.09545101e-01,\n",
       "        4.17173113e-02,  6.89147000e-02, -2.91574803e-01, -1.58276962e-01,\n",
       "       -3.87827890e-01,  2.33169650e+00,  2.89285805e+00, -3.82570054e-01,\n",
       "        2.18483900e+00,  3.46593707e-01, -4.68121788e-01,  6.35264123e-02,\n",
       "       -2.67309165e-01,  2.75169118e+00, -5.09142593e-02,  7.26243006e-02,\n",
       "        4.41883195e-01, -4.98181522e-01, -2.48464299e-01, -1.69534686e-01,\n",
       "        1.14562648e-01,  2.95766312e-01,  6.56891800e-01,  4.21880198e-01,\n",
       "       -4.31163485e-01,  7.92055096e-01, -5.05300547e-01,  1.80602010e-01,\n",
       "        4.26196129e-01,  4.23823946e-01, -3.00567155e-02, -4.07733740e-01,\n",
       "        1.49916231e-01, -1.49835221e-01,  9.00743534e-01,  8.27172942e-01,\n",
       "        7.16170808e-01, -6.39267077e-01,  2.58379373e+00,  6.28123511e-02,\n",
       "        2.65498576e+00,  1.28366975e+00,  1.45451390e-01, -7.19283385e-02,\n",
       "       -2.15398340e-01, -3.99309663e-01, -1.11550745e-01, -2.37219989e-01,\n",
       "       -6.29585577e-01, -6.50960591e-01,  9.78718077e-01, -1.77835872e-01,\n",
       "       -6.51290199e-01,  2.13681325e+00, -4.79892028e-01,  2.96224487e-01,\n",
       "       -2.64061084e-01,  3.42962603e+00,  4.52792671e-02, -4.52304578e-01,\n",
       "        4.17640085e-02,  6.67134289e-01, -9.54560461e-02,  3.21141619e+00,\n",
       "        3.07317624e+00,  2.32153359e-01,  8.17103820e-01,  6.72284837e-02,\n",
       "        2.82436293e+00, -2.38419201e-01, -6.07846053e-01, -5.08842416e-01,\n",
       "        3.14929982e-01,  1.97917640e-01, -6.21244983e-01,  2.87893420e+00,\n",
       "        4.33196886e-02,  3.17023070e-01, -6.23674530e-01,  2.35969393e+00,\n",
       "       -3.24396399e-01, -2.79266756e-01,  9.43409348e-01,  4.28886716e-01,\n",
       "        8.16759145e-01, -5.30922206e-01, -6.49618575e-01, -2.29625801e-01,\n",
       "        3.19322810e+00,  1.94328664e-02,  2.80846819e+00,  7.03166011e-01,\n",
       "        3.75940967e-01,  8.30379594e-01,  1.09771885e-01,  4.65541999e-02,\n",
       "        4.69567031e-01, -3.41914069e-01,  2.21522682e-01, -1.69187678e-01,\n",
       "       -1.38841861e-01, -6.08736547e-01,  1.26645663e+00,  2.40543452e+00,\n",
       "        5.03221101e-01, -6.32272770e-02, -6.31832556e-01, -2.01089334e-01,\n",
       "        3.35109088e-03,  1.37417814e-01,  5.79337365e-01, -5.01176189e-01,\n",
       "        1.49390007e+00,  1.25180660e+00,  3.15279953e-01,  9.47918998e-01,\n",
       "        1.04177175e-01, -3.81178262e-01, -2.69000696e-02, -4.17486457e-01,\n",
       "       -1.88927474e-01,  1.43151579e-01,  5.78983294e-01, -4.90075366e-01,\n",
       "       -1.67664952e-01, -6.32723450e-01, -5.89957982e-01, -6.79986620e-01,\n",
       "        8.87960808e-01,  3.50656530e+00,  3.06120761e+00, -6.38432171e-01,\n",
       "        5.28269434e-01,  4.49040990e-01,  4.04082396e-02,  1.20884969e+00])"
      ]
     },
     "execution_count": 28,
     "metadata": {},
     "output_type": "execute_result"
    }
   ],
   "source": [
    "regressor=RandomForestRegressor(n_estimators=100)\n",
    "regressor.fit(X_train,Y_train) \n",
    "pred=regressor.predict(X_test)\n",
    "pred"
   ]
  },
  {
   "cell_type": "markdown",
   "id": "cf2de659",
   "metadata": {},
   "source": [
    "# Visualization"
   ]
  },
  {
   "cell_type": "code",
   "execution_count": 30,
   "id": "9200deb7",
   "metadata": {},
   "outputs": [
    {
     "data": {
      "image/png": "[encoded data removed]",
      "text/plain": [
       "<Figure size 640x480 with 1 Axes>"
      ]
     },
     "metadata": {},
     "output_type": "display_data"
    }
   ],
   "source": [
    "plt.scatter(Y_test, pred, color='green', label='Scatter Plot')\n",
    "plt.plot([min(Y_test), max(Y_test)], [min(Y_test), max(Y_test)], linestyle='-', color='red', label='Identity Line')\n",
    "plt.title('Actual Vs Predicted charges')\n",
    "plt.xlabel('Actual Values')\n",
    "plt.ylabel('Predicted Values')\n",
    "plt.legend()\n",
    "plt.show()"
   ]
  },
  {
   "cell_type": "code",
   "execution_count": null,
   "id": "43019278",
   "metadata": {},
   "outputs": [],
   "source": []
  },
  {
   "cell_type": "markdown",
   "id": "1888c4d3",
   "metadata": {},
   "source": [
    "# Evaluating the Model"
   ]
  },
  {
   "cell_type": "code",
   "execution_count": 33,
   "id": "6d22a098",
   "metadata": {},
   "outputs": [
    {
     "name": "stdout",
     "output_type": "stream",
     "text": [
      " R2 error: 0.8352936560223154\n"
     ]
    }
   ],
   "source": [
    "error_score=metrics.r2_score(Y_test,pred)\n",
    "print(\" R2 error:\",error_score)"
   ]
  },
  {
   "cell_type": "code",
   "execution_count": 35,
   "id": "40105b02",
   "metadata": {},
   "outputs": [
    {
     "name": "stdout",
     "output_type": "stream",
     "text": [
      "Mean Absolute Error (MAE): 0.23084644715146543\n",
      "Root Mean Squared Error (RMSE): 0.4804648240521521\n"
     ]
    }
   ],
   "source": [
    "MAE = mean_absolute_error(Y_test, pred)\n",
    "RMSE = np.sqrt(MAE)\n",
    "print(\"Mean Absolute Error (MAE):\", MAE)\n",
    "print(\"Root Mean Squared Error (RMSE):\", RMSE)"
   ]
  },
  {
   "cell_type": "markdown",
   "id": "a09968d7",
   "metadata": {},
   "source": [
    "# Linear Regression Algo"
   ]
  },
  {
   "cell_type": "code",
   "execution_count": 37,
   "id": "d208361f",
   "metadata": {},
   "outputs": [
    {
     "data": {
      "text/plain": [
       "array([-0.65709412,  0.17224566,  0.04502539, -0.58895337, -0.13772027,\n",
       "        0.14938133, -0.4863267 , -0.7169318 ,  0.21865588,  0.02125602,\n",
       "        0.17587024, -0.35747717,  1.7258784 , -0.81260679,  0.25086233,\n",
       "        0.30581088, -0.32077078, -0.11769521,  1.68357248, -0.57432898,\n",
       "        0.24964607, -0.58694518,  2.11014671,  1.87934078,  1.77217584,\n",
       "       -0.05122783, -0.61990137,  0.49174637, -0.22666268, -0.60594672,\n",
       "        0.01371368, -0.29151652, -0.41310114, -0.36777132,  0.00865399,\n",
       "       -0.38174153,  1.74580631, -0.22066723,  1.50741812,  0.36765771,\n",
       "       -0.7514083 ,  1.60859744, -0.13119663, -0.65312656,  0.07735742,\n",
       "       -0.10891197,  0.17575795, -0.09355451,  0.12557112,  0.35887541,\n",
       "       -0.29476083, -0.84552556,  1.44113923,  2.32315318, -0.1711017 ,\n",
       "        0.71024877, -0.66707607,  0.13666229, -0.59591171,  2.07312358,\n",
       "        0.16381805, -0.71023017, -0.43956074,  2.22852781, -0.87101564,\n",
       "        0.36887252,  0.44329105, -0.48737616,  0.28201688,  0.15433345,\n",
       "        0.17344723,  0.55495207,  0.05279413,  0.04687967,  0.46885785,\n",
       "        0.24584436, -0.40389025, -0.47024314, -0.333076  ,  0.31465335,\n",
       "       -0.03942907,  0.20264283,  0.03479669,  1.5459057 ,  0.25915674,\n",
       "       -0.44789687,  2.43496806,  0.12877985, -0.12636957,  0.1479609 ,\n",
       "        0.12596474,  0.46313561,  0.13498338,  0.29978605, -0.33431114,\n",
       "        1.40244513, -0.35319664,  0.09305403, -0.56053961,  1.65174256,\n",
       "       -0.23379726, -0.48519332, -0.56594121,  0.54371501, -0.12587986,\n",
       "        0.05132166,  0.04525083, -0.35789774,  0.44911517,  2.04020155,\n",
       "       -0.45471551,  0.16044549,  1.29087134,  0.45158983, -0.62814137,\n",
       "        0.06485816, -0.01475877, -0.25482546,  0.19215132,  1.64351772,\n",
       "       -0.24952188, -0.18978685,  0.54442639,  0.56331044, -0.07762624,\n",
       "        1.42821754,  2.15345568,  0.2009985 , -0.11397163,  0.00886954,\n",
       "       -0.08765415, -0.53488715, -0.49282987, -0.38870756, -0.18253873,\n",
       "       -0.11001693, -0.18806199,  1.66267836,  2.16747007, -0.43928894,\n",
       "        1.56892727, -0.42432967, -0.22075575,  0.3230496 , -0.11709661,\n",
       "        2.28072001,  0.20017765,  0.15239487, -0.09621858, -0.73912271,\n",
       "       -0.22887647, -0.17711573, -0.37862608,  0.1770424 ,  0.17322314,\n",
       "        0.49868633, -0.29482148,  1.54508679, -0.6178383 ,  0.1630447 ,\n",
       "        0.62487025,  0.36500451,  0.0030165 , -0.58917546, -0.40957934,\n",
       "       -0.03998598,  0.81915224,  1.58604663,  0.25178251, -0.530222  ,\n",
       "        1.94696668,  0.30768361,  1.97829314,  2.08680691,  0.14065492,\n",
       "       -0.15749184, -0.56785894, -0.57432898,  0.18745962, -0.12362441,\n",
       "       -0.5336889 , -0.68323448,  1.8743488 , -0.18448477, -0.30478779,\n",
       "        1.52007553, -0.22685931, -0.55533455, -0.10818215,  2.17796821,\n",
       "       -0.12992399, -0.41550759,  0.01088903,  1.47471492, -0.30187221,\n",
       "        2.58015353,  2.34568032,  0.29408037,  1.47187695,  0.20075688,\n",
       "        2.36785893, -0.17344618, -0.42563172, -0.61073925,  0.38019252,\n",
       "        0.37319379, -0.59833291,  2.19807422,  0.27870151, -0.06525251,\n",
       "       -0.51371152,  1.79335031, -0.49779054, -0.50269586,  0.25094331,\n",
       "        0.46237313,  1.70634068, -0.7906731 , -0.50324423, -0.08164069,\n",
       "        2.54173753, -0.116147  ,  2.1623962 ,  1.51462042,  0.35006381,\n",
       "        1.64719732,  0.60365789, -0.15496697,  0.56687536, -0.18380889,\n",
       "        0.05763031, -0.47578775, -0.04705378, -0.62204693,  1.9605292 ,\n",
       "        1.9150245 ,  0.44582207,  0.17320854, -0.69449851, -0.26169142,\n",
       "        0.14594524, -0.42383431,  0.12340674, -0.69992237,  2.13378919,\n",
       "        1.92192034,  0.08041366,  1.43401179,  0.27800149, -0.64024138,\n",
       "        0.14962187, -0.56894774, -0.15085646,  0.09554617,  0.63777018,\n",
       "       -0.29001516,  0.10511565, -0.82633886, -0.98239478, -0.61894709,\n",
       "        1.55146643,  2.06635989,  2.34660772, -0.92049673,  0.5206763 ,\n",
       "        0.29087019,  0.29642284,  2.06932231])"
      ]
     },
     "execution_count": 37,
     "metadata": {},
     "output_type": "execute_result"
    }
   ],
   "source": [
    "regressor=LinearRegression()\n",
    "regressor.fit(X_train,Y_train) \n",
    "pred=regressor.predict(X_test)\n",
    "pred"
   ]
  },
  {
   "cell_type": "code",
   "execution_count": 38,
   "id": "6f9f3896",
   "metadata": {},
   "outputs": [
    {
     "data": {
      "image/png": "[encoded data removed]",
      "text/plain": [
       "<Figure size 640x480 with 1 Axes>"
      ]
     },
     "metadata": {},
     "output_type": "display_data"
    }
   ],
   "source": [
    "plt.scatter(Y_test, pred, color='green', label='Scatter Plot')\n",
    "plt.plot([min(Y_test), max(Y_test)], [min(Y_test), max(Y_test)], linestyle='-', color='red', label='Identity Line')\n",
    "plt.title('Actual Vs Predicted charges')\n",
    "plt.xlabel('Actual Values')\n",
    "plt.ylabel('Predicted Values')\n",
    "plt.legend()\n",
    "plt.show()"
   ]
  },
  {
   "cell_type": "markdown",
   "id": "1e2020f7",
   "metadata": {},
   "source": [
    "# Evaluating the Model"
   ]
  },
  {
   "cell_type": "code",
   "execution_count": 39,
   "id": "f7f11973",
   "metadata": {},
   "outputs": [
    {
     "name": "stdout",
     "output_type": "stream",
     "text": [
      " R2 error: 0.7388095082516362\n"
     ]
    }
   ],
   "source": [
    "error_score=metrics.r2_score(Y_test,pred)\n",
    "print(\" R2 error:\",error_score)"
   ]
  },
  {
   "cell_type": "code",
   "execution_count": 40,
   "id": "7ee4facf",
   "metadata": {},
   "outputs": [
    {
     "name": "stdout",
     "output_type": "stream",
     "text": [
      "Mean Absolute Error (MAE): 0.3629850534873725\n",
      "Root Mean Squared Error (RMSE): 0.6024824092762978\n"
     ]
    }
   ],
   "source": [
    "MAE = mean_absolute_error(Y_test, pred)\n",
    "RMSE = np.sqrt(MAE)\n",
    "print(\"Mean Absolute Error (MAE):\", MAE)\n",
    "print(\"Root Mean Squared Error (RMSE):\", RMSE)"
   ]
  },
  {
   "cell_type": "code",
   "execution_count": null,
   "id": "964c0d93",
   "metadata": {},
   "outputs": [],
   "source": []
  }
 ],
 "metadata": {
  "kernelspec": {
   "display_name": "Python 3 (ipykernel)",
   "language": "python",
   "name": "python3"
  },
  "language_info": {
   "codemirror_mode": {
    "name": "ipython",
    "version": 3
   },
   "file_extension": ".py",
   "mimetype": "text/x-python",
   "name": "python",
   "nbconvert_exporter": "python",
   "pygments_lexer": "ipython3",
   "version": "3.11.4"
  }
 },
 "nbformat": 4,
 "nbformat_minor": 5
}
